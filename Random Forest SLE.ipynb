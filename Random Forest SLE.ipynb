{
 "cells": [
  {
   "cell_type": "code",
   "execution_count": 1,
   "metadata": {},
   "outputs": [],
   "source": [
    "import pandas as pd\n",
    "import numpy as np\n",
    "from sklearn.preprocessing import StandardScaler\n",
    "import matplotlib.pyplot as plt"
   ]
  },
  {
   "cell_type": "code",
   "execution_count": 2,
   "metadata": {},
   "outputs": [
    {
     "data": {
      "text/html": [
       "<div>\n",
       "<style scoped>\n",
       "    .dataframe tbody tr th:only-of-type {\n",
       "        vertical-align: middle;\n",
       "    }\n",
       "\n",
       "    .dataframe tbody tr th {\n",
       "        vertical-align: top;\n",
       "    }\n",
       "\n",
       "    .dataframe thead th {\n",
       "        text-align: right;\n",
       "    }\n",
       "</style>\n",
       "<table border=\"1\" class=\"dataframe\">\n",
       "  <thead>\n",
       "    <tr style=\"text-align: right;\">\n",
       "      <th></th>\n",
       "      <th>bsgm_wpgp_2015_dst</th>\n",
       "      <th>guf_ghsl_dst_2014</th>\n",
       "      <th>dmsp_2011</th>\n",
       "      <th>ccilc_dst011_2015</th>\n",
       "      <th>ccilc_dst040_2015</th>\n",
       "      <th>ccilc_dst130_2015</th>\n",
       "      <th>ccilc_dst140_2015</th>\n",
       "      <th>ccilc_dst150_2015</th>\n",
       "      <th>ccilc_dst160_2015</th>\n",
       "      <th>ccilc_dst190_2015</th>\n",
       "      <th>...</th>\n",
       "      <th>urbanaccessibility_2015</th>\n",
       "      <th>viirs_2016</th>\n",
       "      <th>wdpa_cat1_dst_2017</th>\n",
       "      <th>Population</th>\n",
       "      <th>DIST_TO_MANGROVE</th>\n",
       "      <th>Population_1</th>\n",
       "      <th>VillageID_1</th>\n",
       "      <th>DIST_TO_MANGROVE_1</th>\n",
       "      <th>area_sqm</th>\n",
       "      <th>log_population</th>\n",
       "    </tr>\n",
       "    <tr>\n",
       "      <th>VillageID</th>\n",
       "      <th></th>\n",
       "      <th></th>\n",
       "      <th></th>\n",
       "      <th></th>\n",
       "      <th></th>\n",
       "      <th></th>\n",
       "      <th></th>\n",
       "      <th></th>\n",
       "      <th></th>\n",
       "      <th></th>\n",
       "      <th></th>\n",
       "      <th></th>\n",
       "      <th></th>\n",
       "      <th></th>\n",
       "      <th></th>\n",
       "      <th></th>\n",
       "      <th></th>\n",
       "      <th></th>\n",
       "      <th></th>\n",
       "      <th></th>\n",
       "      <th></th>\n",
       "    </tr>\n",
       "  </thead>\n",
       "  <tbody>\n",
       "    <tr>\n",
       "      <th>2</th>\n",
       "      <td>0.946</td>\n",
       "      <td>0.946</td>\n",
       "      <td>0.0</td>\n",
       "      <td>0.663</td>\n",
       "      <td>4.693</td>\n",
       "      <td>6.291</td>\n",
       "      <td>20.177</td>\n",
       "      <td>342.837006</td>\n",
       "      <td>0.000</td>\n",
       "      <td>2.134</td>\n",
       "      <td>...</td>\n",
       "      <td>169.369995</td>\n",
       "      <td>0.050629</td>\n",
       "      <td>546.718994</td>\n",
       "      <td>200</td>\n",
       "      <td>-126.943531</td>\n",
       "      <td>200</td>\n",
       "      <td>2</td>\n",
       "      <td>-126.943531</td>\n",
       "      <td>1876.919368</td>\n",
       "      <td>5.298317</td>\n",
       "    </tr>\n",
       "    <tr>\n",
       "      <th>3</th>\n",
       "      <td>0.000</td>\n",
       "      <td>0.000</td>\n",
       "      <td>0.0</td>\n",
       "      <td>3.470</td>\n",
       "      <td>5.191</td>\n",
       "      <td>6.703</td>\n",
       "      <td>18.664</td>\n",
       "      <td>345.627014</td>\n",
       "      <td>-0.092</td>\n",
       "      <td>2.469</td>\n",
       "      <td>...</td>\n",
       "      <td>142.787506</td>\n",
       "      <td>0.027746</td>\n",
       "      <td>544.018005</td>\n",
       "      <td>270</td>\n",
       "      <td>-45.303730</td>\n",
       "      <td>270</td>\n",
       "      <td>3</td>\n",
       "      <td>-45.303730</td>\n",
       "      <td>7507.932577</td>\n",
       "      <td>5.598422</td>\n",
       "    </tr>\n",
       "    <tr>\n",
       "      <th>4</th>\n",
       "      <td>0.093</td>\n",
       "      <td>0.093</td>\n",
       "      <td>0.0</td>\n",
       "      <td>4.370</td>\n",
       "      <td>6.870</td>\n",
       "      <td>4.483</td>\n",
       "      <td>10.965</td>\n",
       "      <td>351.541992</td>\n",
       "      <td>0.186</td>\n",
       "      <td>6.511</td>\n",
       "      <td>...</td>\n",
       "      <td>116.000000</td>\n",
       "      <td>0.036797</td>\n",
       "      <td>540.653015</td>\n",
       "      <td>500</td>\n",
       "      <td>198.853522</td>\n",
       "      <td>500</td>\n",
       "      <td>4</td>\n",
       "      <td>198.853522</td>\n",
       "      <td>0.000000</td>\n",
       "      <td>6.214608</td>\n",
       "    </tr>\n",
       "    <tr>\n",
       "      <th>5</th>\n",
       "      <td>0.000</td>\n",
       "      <td>0.000</td>\n",
       "      <td>0.0</td>\n",
       "      <td>4.046</td>\n",
       "      <td>6.203</td>\n",
       "      <td>7.313</td>\n",
       "      <td>17.545</td>\n",
       "      <td>346.170990</td>\n",
       "      <td>0.000</td>\n",
       "      <td>2.207</td>\n",
       "      <td>...</td>\n",
       "      <td>142.514999</td>\n",
       "      <td>0.015195</td>\n",
       "      <td>543.888000</td>\n",
       "      <td>300</td>\n",
       "      <td>113.577526</td>\n",
       "      <td>300</td>\n",
       "      <td>5</td>\n",
       "      <td>113.577526</td>\n",
       "      <td>8446.667623</td>\n",
       "      <td>5.703782</td>\n",
       "    </tr>\n",
       "    <tr>\n",
       "      <th>8</th>\n",
       "      <td>0.092</td>\n",
       "      <td>0.092</td>\n",
       "      <td>0.0</td>\n",
       "      <td>1.280</td>\n",
       "      <td>1.987</td>\n",
       "      <td>4.197</td>\n",
       "      <td>16.652</td>\n",
       "      <td>383.230988</td>\n",
       "      <td>0.000</td>\n",
       "      <td>4.431</td>\n",
       "      <td>...</td>\n",
       "      <td>47.062500</td>\n",
       "      <td>0.125886</td>\n",
       "      <td>521.744019</td>\n",
       "      <td>700</td>\n",
       "      <td>-8.841258</td>\n",
       "      <td>700</td>\n",
       "      <td>8</td>\n",
       "      <td>-8.841258</td>\n",
       "      <td>17849.864783</td>\n",
       "      <td>6.551080</td>\n",
       "    </tr>\n",
       "  </tbody>\n",
       "</table>\n",
       "<p>5 rows × 35 columns</p>\n",
       "</div>"
      ],
      "text/plain": [
       "           bsgm_wpgp_2015_dst  guf_ghsl_dst_2014  dmsp_2011  \\\n",
       "VillageID                                                     \n",
       "2                       0.946              0.946        0.0   \n",
       "3                       0.000              0.000        0.0   \n",
       "4                       0.093              0.093        0.0   \n",
       "5                       0.000              0.000        0.0   \n",
       "8                       0.092              0.092        0.0   \n",
       "\n",
       "           ccilc_dst011_2015  ccilc_dst040_2015  ccilc_dst130_2015  \\\n",
       "VillageID                                                            \n",
       "2                      0.663              4.693              6.291   \n",
       "3                      3.470              5.191              6.703   \n",
       "4                      4.370              6.870              4.483   \n",
       "5                      4.046              6.203              7.313   \n",
       "8                      1.280              1.987              4.197   \n",
       "\n",
       "           ccilc_dst140_2015  ccilc_dst150_2015  ccilc_dst160_2015  \\\n",
       "VillageID                                                            \n",
       "2                     20.177         342.837006              0.000   \n",
       "3                     18.664         345.627014             -0.092   \n",
       "4                     10.965         351.541992              0.186   \n",
       "5                     17.545         346.170990              0.000   \n",
       "8                     16.652         383.230988              0.000   \n",
       "\n",
       "           ccilc_dst190_2015  ...  urbanaccessibility_2015  viirs_2016  \\\n",
       "VillageID                     ...                                        \n",
       "2                      2.134  ...               169.369995    0.050629   \n",
       "3                      2.469  ...               142.787506    0.027746   \n",
       "4                      6.511  ...               116.000000    0.036797   \n",
       "5                      2.207  ...               142.514999    0.015195   \n",
       "8                      4.431  ...                47.062500    0.125886   \n",
       "\n",
       "           wdpa_cat1_dst_2017  Population  DIST_TO_MANGROVE  Population_1  \\\n",
       "VillageID                                                                   \n",
       "2                  546.718994         200       -126.943531           200   \n",
       "3                  544.018005         270        -45.303730           270   \n",
       "4                  540.653015         500        198.853522           500   \n",
       "5                  543.888000         300        113.577526           300   \n",
       "8                  521.744019         700         -8.841258           700   \n",
       "\n",
       "           VillageID_1  DIST_TO_MANGROVE_1      area_sqm  log_population  \n",
       "VillageID                                                                 \n",
       "2                    2         -126.943531   1876.919368        5.298317  \n",
       "3                    3          -45.303730   7507.932577        5.598422  \n",
       "4                    4          198.853522      0.000000        6.214608  \n",
       "5                    5          113.577526   8446.667623        5.703782  \n",
       "8                    8           -8.841258  17849.864783        6.551080  \n",
       "\n",
       "[5 rows x 35 columns]"
      ]
     },
     "execution_count": 2,
     "metadata": {},
     "output_type": "execute_result"
    }
   ],
   "source": [
    "df = pd.read_csv('rf_inputs.csv')\n",
    "df.set_index('VillageID',inplace=True)\n",
    "df.head()"
   ]
  },
  {
   "cell_type": "code",
   "execution_count": 3,
   "metadata": {},
   "outputs": [],
   "source": [
    "%matplotlib inline\n",
    "import seaborn as sns"
   ]
  },
  {
   "cell_type": "code",
   "execution_count": 4,
   "metadata": {},
   "outputs": [
    {
     "data": {
      "text/plain": [
       "<matplotlib.axes._subplots.AxesSubplot at 0x1fe4cb70e80>"
      ]
     },
     "execution_count": 4,
     "metadata": {},
     "output_type": "execute_result"
    },
    {
     "data": {
      "image/png": "[encoded data removed]",
      "text/plain": [
       "<Figure size 432x288 with 1 Axes>"
      ]
     },
     "metadata": {
      "needs_background": "light"
     },
     "output_type": "display_data"
    }
   ],
   "source": [
    "sns.boxplot(data=df[df.columns[0:6]])"
   ]
  },
  {
   "cell_type": "code",
   "execution_count": 5,
   "metadata": {},
   "outputs": [
    {
     "data": {
      "text/plain": [
       "<matplotlib.axes._subplots.AxesSubplot at 0x1fe4cc999b0>"
      ]
     },
     "execution_count": 5,
     "metadata": {},
     "output_type": "execute_result"
    },
    {
     "data": {
      "image/png": "[encoded data removed]",
      "text/plain": [
       "<Figure size 432x288 with 1 Axes>"
      ]
     },
     "metadata": {
      "needs_background": "light"
     },
     "output_type": "display_data"
    }
   ],
   "source": [
    "sns.boxplot(data=df[df.columns[7:12]])"
   ]
  },
  {
   "cell_type": "code",
   "execution_count": 6,
   "metadata": {},
   "outputs": [
    {
     "data": {
      "text/plain": [
       "<matplotlib.axes._subplots.AxesSubplot at 0x1fe4cda8f60>"
      ]
     },
     "execution_count": 6,
     "metadata": {},
     "output_type": "execute_result"
    },
    {
     "data": {
      "image/png": "[encoded data removed]",
      "text/plain": [
       "<Figure size 432x288 with 1 Axes>"
      ]
     },
     "metadata": {
      "needs_background": "light"
     },
     "output_type": "display_data"
    }
   ],
   "source": [
    "sns.boxplot(data=df[df.columns[13:19]])"
   ]
  },
  {
   "cell_type": "code",
   "execution_count": 7,
   "metadata": {},
   "outputs": [
    {
     "data": {
      "text/plain": [
       "<matplotlib.axes._subplots.AxesSubplot at 0x1fe4ce77358>"
      ]
     },
     "execution_count": 7,
     "metadata": {},
     "output_type": "execute_result"
    },
    {
     "data": {
      "image/png": "[encoded data removed]",
      "text/plain": [
       "<Figure size 432x288 with 1 Axes>"
      ]
     },
     "metadata": {
      "needs_background": "light"
     },
     "output_type": "display_data"
    }
   ],
   "source": [
    "sns.boxplot(data=df[df.columns[20:25]])"
   ]
  },
  {
   "cell_type": "code",
   "execution_count": 8,
   "metadata": {},
   "outputs": [
    {
     "data": {
      "text/plain": [
       "<matplotlib.axes._subplots.AxesSubplot at 0x1fe4cf39f28>"
      ]
     },
     "execution_count": 8,
     "metadata": {},
     "output_type": "execute_result"
    },
    {
     "data": {
      "image/png": "[encoded data removed]",
      "text/plain": [
       "<Figure size 432x288 with 1 Axes>"
      ]
     },
     "metadata": {
      "needs_background": "light"
     },
     "output_type": "display_data"
    }
   ],
   "source": [
    "sns.boxplot(data=df[df.columns[26:]])"
   ]
  },
  {
   "cell_type": "code",
   "execution_count": 9,
   "metadata": {},
   "outputs": [
    {
     "data": {
      "text/plain": [
       "bsgm_wpgp_2015_dst          2\n",
       "guf_ghsl_dst_2014           2\n",
       "dmsp_2011                  35\n",
       "ccilc_dst011_2015           2\n",
       "ccilc_dst040_2015           2\n",
       "ccilc_dst130_2015           2\n",
       "ccilc_dst140_2015           2\n",
       "ccilc_dst150_2015           2\n",
       "ccilc_dst160_2015           2\n",
       "ccilc_dst190_2015           2\n",
       "ccilc_dst200_2015           2\n",
       "ghsl_dst_2014               2\n",
       "guf_dst_2012                2\n",
       "cciwat_cls                 35\n",
       "cciwat_dst                  2\n",
       "cciwat_dst_negative         2\n",
       "gpw4coast_dst               2\n",
       "osmint_dst                  2\n",
       "osmriv_dst                  2\n",
       "osmroa_dst                  2\n",
       "slope                       2\n",
       "topo                        2\n",
       "tt50k_2000                  2\n",
       "wclim_prec                  2\n",
       "wclim_temp                  2\n",
       "urbanaccessibility_2015     2\n",
       "viirs_2016                  2\n",
       "wdpa_cat1_dst_2017          2\n",
       "Population                  2\n",
       "DIST_TO_MANGROVE            2\n",
       "Population_1                2\n",
       "VillageID_1                 2\n",
       "DIST_TO_MANGROVE_1          2\n",
       "area_sqm                    2\n",
       "log_population              2\n",
       "dtype: int64"
      ]
     },
     "execution_count": 9,
     "metadata": {},
     "output_type": "execute_result"
    }
   ],
   "source": [
    "corr = df.corr()\n",
    "corr.isnull().sum()"
   ]
  },
  {
   "cell_type": "code",
   "execution_count": 10,
   "metadata": {},
   "outputs": [],
   "source": [
    "# drop full nulls\n",
    "df.drop(['dmsp_2011','cciwat_cls'],axis=1,inplace=True)"
   ]
  },
  {
   "cell_type": "code",
   "execution_count": 11,
   "metadata": {},
   "outputs": [
    {
     "data": {
      "text/plain": [
       "bsgm_wpgp_2015_dst         0\n",
       "guf_ghsl_dst_2014          0\n",
       "ccilc_dst011_2015          0\n",
       "ccilc_dst040_2015          0\n",
       "ccilc_dst130_2015          0\n",
       "ccilc_dst140_2015          0\n",
       "ccilc_dst150_2015          0\n",
       "ccilc_dst160_2015          0\n",
       "ccilc_dst190_2015          0\n",
       "ccilc_dst200_2015          0\n",
       "ghsl_dst_2014              0\n",
       "guf_dst_2012               0\n",
       "cciwat_dst                 0\n",
       "cciwat_dst_negative        0\n",
       "gpw4coast_dst              0\n",
       "osmint_dst                 0\n",
       "osmriv_dst                 0\n",
       "osmroa_dst                 0\n",
       "slope                      0\n",
       "topo                       0\n",
       "tt50k_2000                 0\n",
       "wclim_prec                 0\n",
       "wclim_temp                 0\n",
       "urbanaccessibility_2015    0\n",
       "viirs_2016                 0\n",
       "wdpa_cat1_dst_2017         0\n",
       "Population                 0\n",
       "DIST_TO_MANGROVE           0\n",
       "Population_1               0\n",
       "VillageID_1                0\n",
       "DIST_TO_MANGROVE_1         0\n",
       "area_sqm                   0\n",
       "log_population             0\n",
       "dtype: int64"
      ]
     },
     "execution_count": 11,
     "metadata": {},
     "output_type": "execute_result"
    }
   ],
   "source": [
    "corr = df.corr()\n",
    "corr.isnull().sum()"
   ]
  },
  {
   "cell_type": "code",
   "execution_count": 12,
   "metadata": {},
   "outputs": [
    {
     "data": {
      "text/plain": [
       "bsgm_wpgp_2015_dst        -0.443961\n",
       "guf_ghsl_dst_2014         -0.443961\n",
       "ccilc_dst011_2015         -0.126465\n",
       "ccilc_dst040_2015         -0.097729\n",
       "ccilc_dst130_2015         -0.060866\n",
       "ccilc_dst140_2015         -0.050050\n",
       "ccilc_dst150_2015         -0.035995\n",
       "ccilc_dst160_2015          0.092098\n",
       "ccilc_dst190_2015          0.021814\n",
       "ccilc_dst200_2015         -0.067607\n",
       "ghsl_dst_2014             -0.423925\n",
       "guf_dst_2012              -0.549707\n",
       "cciwat_dst                 0.244927\n",
       "cciwat_dst_negative        0.244927\n",
       "gpw4coast_dst              0.249973\n",
       "osmint_dst                -0.173572\n",
       "osmriv_dst                 0.187002\n",
       "osmroa_dst                -0.196094\n",
       "slope                      0.224786\n",
       "topo                       0.472291\n",
       "tt50k_2000                -0.452345\n",
       "wclim_prec                -0.284977\n",
       "wclim_temp                -0.217391\n",
       "urbanaccessibility_2015   -0.297690\n",
       "viirs_2016                 0.178633\n",
       "wdpa_cat1_dst_2017         0.052470\n",
       "Population                 0.946168\n",
       "DIST_TO_MANGROVE           0.282694\n",
       "Population_1               0.946168\n",
       "VillageID_1                0.134809\n",
       "DIST_TO_MANGROVE_1         0.282694\n",
       "area_sqm                   0.450307\n",
       "log_population             1.000000\n",
       "Name: log_population, dtype: float64"
      ]
     },
     "execution_count": 12,
     "metadata": {},
     "output_type": "execute_result"
    }
   ],
   "source": [
    "corr.log_population"
   ]
  },
  {
   "cell_type": "code",
   "execution_count": 13,
   "metadata": {},
   "outputs": [
    {
     "data": {
      "text/plain": [
       "<matplotlib.axes._subplots.AxesSubplot at 0x1fe4d04c748>"
      ]
     },
     "execution_count": 13,
     "metadata": {},
     "output_type": "execute_result"
    },
    {
     "data": {
      "image/png": "[encoded data removed]",
      "text/plain": [
       "<Figure size 792x648 with 2 Axes>"
      ]
     },
     "metadata": {
      "needs_background": "light"
     },
     "output_type": "display_data"
    }
   ],
   "source": [
    "# plot a correlation heat map\n",
    "mask = np.zeros_like(corr, dtype=np.bool)\n",
    "mask[np.triu_indices_from(mask)] = True\n",
    "\n",
    "# Set up the matplotlib figure\n",
    "f, ax = plt.subplots(figsize=(11, 9))\n",
    "\n",
    "# Generate a custom diverging colormap\n",
    "cmap = sns.diverging_palette(220, 10, as_cmap=True)\n",
    "plt.yticks(rotation=70) # doesn't work interacive, but OK inline \n",
    "plt.xticks(rotation=90)\n",
    "# Draw the heatmap with the mask and correct aspect ratio\n",
    "sns.heatmap(corr, cmap=cmap, vmax=.3, center=0,\n",
    "            square=True, linewidths=.5, cbar_kws={\"shrink\": .5})\n",
    "# removed mask from parameters mask=mask, "
   ]
  },
  {
   "cell_type": "code",
   "execution_count": 14,
   "metadata": {},
   "outputs": [
    {
     "data": {
      "text/html": [
       "<div>\n",
       "<style scoped>\n",
       "    .dataframe tbody tr th:only-of-type {\n",
       "        vertical-align: middle;\n",
       "    }\n",
       "\n",
       "    .dataframe tbody tr th {\n",
       "        vertical-align: top;\n",
       "    }\n",
       "\n",
       "    .dataframe thead th {\n",
       "        text-align: right;\n",
       "    }\n",
       "</style>\n",
       "<table border=\"1\" class=\"dataframe\">\n",
       "  <thead>\n",
       "    <tr style=\"text-align: right;\">\n",
       "      <th></th>\n",
       "      <th>bsgm_wpgp_2015_dst</th>\n",
       "      <th>guf_ghsl_dst_2014</th>\n",
       "      <th>ccilc_dst011_2015</th>\n",
       "      <th>ccilc_dst040_2015</th>\n",
       "      <th>ccilc_dst130_2015</th>\n",
       "      <th>ccilc_dst140_2015</th>\n",
       "      <th>ccilc_dst150_2015</th>\n",
       "      <th>ccilc_dst160_2015</th>\n",
       "      <th>ccilc_dst190_2015</th>\n",
       "      <th>ccilc_dst200_2015</th>\n",
       "      <th>...</th>\n",
       "      <th>slope</th>\n",
       "      <th>topo</th>\n",
       "      <th>tt50k_2000</th>\n",
       "      <th>wclim_prec</th>\n",
       "      <th>wclim_temp</th>\n",
       "      <th>urbanaccessibility_2015</th>\n",
       "      <th>viirs_2016</th>\n",
       "      <th>wdpa_cat1_dst_2017</th>\n",
       "      <th>DIST_TO_MANGROVE</th>\n",
       "      <th>area_sqm</th>\n",
       "    </tr>\n",
       "  </thead>\n",
       "  <tbody>\n",
       "    <tr>\n",
       "      <th>count</th>\n",
       "      <td>16.000000</td>\n",
       "      <td>16.000000</td>\n",
       "      <td>16.000000</td>\n",
       "      <td>16.000000</td>\n",
       "      <td>16.000000</td>\n",
       "      <td>16.000000</td>\n",
       "      <td>16.000000</td>\n",
       "      <td>16.000000</td>\n",
       "      <td>16.000000</td>\n",
       "      <td>16.000000</td>\n",
       "      <td>...</td>\n",
       "      <td>16.000000</td>\n",
       "      <td>16.000000</td>\n",
       "      <td>16.000000</td>\n",
       "      <td>16.000000</td>\n",
       "      <td>16.000000</td>\n",
       "      <td>16.000000</td>\n",
       "      <td>16.000000</td>\n",
       "      <td>16.000000</td>\n",
       "      <td>16.000000</td>\n",
       "      <td>16.000000</td>\n",
       "    </tr>\n",
       "    <tr>\n",
       "      <th>mean</th>\n",
       "      <td>0.291000</td>\n",
       "      <td>0.291000</td>\n",
       "      <td>1.908938</td>\n",
       "      <td>2.742125</td>\n",
       "      <td>6.089812</td>\n",
       "      <td>12.130437</td>\n",
       "      <td>416.118061</td>\n",
       "      <td>0.047750</td>\n",
       "      <td>6.049187</td>\n",
       "      <td>48.024750</td>\n",
       "      <td>...</td>\n",
       "      <td>1.437500</td>\n",
       "      <td>10.625000</td>\n",
       "      <td>242.637347</td>\n",
       "      <td>3124.614685</td>\n",
       "      <td>26.709874</td>\n",
       "      <td>136.337343</td>\n",
       "      <td>0.059703</td>\n",
       "      <td>502.044809</td>\n",
       "      <td>44.186679</td>\n",
       "      <td>8877.040063</td>\n",
       "    </tr>\n",
       "    <tr>\n",
       "      <th>std</th>\n",
       "      <td>0.670436</td>\n",
       "      <td>0.670436</td>\n",
       "      <td>1.696346</td>\n",
       "      <td>2.257910</td>\n",
       "      <td>1.606568</td>\n",
       "      <td>5.271829</td>\n",
       "      <td>58.893230</td>\n",
       "      <td>0.158975</td>\n",
       "      <td>4.485972</td>\n",
       "      <td>44.009872</td>\n",
       "      <td>...</td>\n",
       "      <td>1.152895</td>\n",
       "      <td>7.762087</td>\n",
       "      <td>79.631698</td>\n",
       "      <td>160.140490</td>\n",
       "      <td>0.520104</td>\n",
       "      <td>94.486583</td>\n",
       "      <td>0.033226</td>\n",
       "      <td>35.938269</td>\n",
       "      <td>123.329141</td>\n",
       "      <td>9978.923675</td>\n",
       "    </tr>\n",
       "    <tr>\n",
       "      <th>min</th>\n",
       "      <td>-0.092000</td>\n",
       "      <td>-0.092000</td>\n",
       "      <td>-0.093000</td>\n",
       "      <td>0.000000</td>\n",
       "      <td>1.855000</td>\n",
       "      <td>4.595000</td>\n",
       "      <td>342.837006</td>\n",
       "      <td>-0.367000</td>\n",
       "      <td>1.443000</td>\n",
       "      <td>3.920000</td>\n",
       "      <td>...</td>\n",
       "      <td>0.000000</td>\n",
       "      <td>0.000000</td>\n",
       "      <td>50.537498</td>\n",
       "      <td>2909.912598</td>\n",
       "      <td>26.143747</td>\n",
       "      <td>14.212500</td>\n",
       "      <td>0.015195</td>\n",
       "      <td>437.378998</td>\n",
       "      <td>-148.606878</td>\n",
       "      <td>0.000000</td>\n",
       "    </tr>\n",
       "    <tr>\n",
       "      <th>25%</th>\n",
       "      <td>0.000000</td>\n",
       "      <td>0.000000</td>\n",
       "      <td>0.543750</td>\n",
       "      <td>0.787000</td>\n",
       "      <td>5.455750</td>\n",
       "      <td>7.467500</td>\n",
       "      <td>372.961990</td>\n",
       "      <td>0.000000</td>\n",
       "      <td>2.403500</td>\n",
       "      <td>12.926250</td>\n",
       "      <td>...</td>\n",
       "      <td>0.750000</td>\n",
       "      <td>5.500000</td>\n",
       "      <td>206.012505</td>\n",
       "      <td>2990.971924</td>\n",
       "      <td>26.316563</td>\n",
       "      <td>45.840625</td>\n",
       "      <td>0.030907</td>\n",
       "      <td>481.078247</td>\n",
       "      <td>-46.335856</td>\n",
       "      <td>1407.689526</td>\n",
       "    </tr>\n",
       "    <tr>\n",
       "      <th>50%</th>\n",
       "      <td>0.092000</td>\n",
       "      <td>0.092000</td>\n",
       "      <td>1.346000</td>\n",
       "      <td>2.115000</td>\n",
       "      <td>6.497000</td>\n",
       "      <td>11.598000</td>\n",
       "      <td>403.103500</td>\n",
       "      <td>0.046000</td>\n",
       "      <td>5.270000</td>\n",
       "      <td>30.063500</td>\n",
       "      <td>...</td>\n",
       "      <td>1.500000</td>\n",
       "      <td>8.500000</td>\n",
       "      <td>232.313751</td>\n",
       "      <td>3145.037476</td>\n",
       "      <td>26.517760</td>\n",
       "      <td>142.651253</td>\n",
       "      <td>0.051091</td>\n",
       "      <td>511.487000</td>\n",
       "      <td>54.995237</td>\n",
       "      <td>6113.857780</td>\n",
       "    </tr>\n",
       "    <tr>\n",
       "      <th>75%</th>\n",
       "      <td>0.093000</td>\n",
       "      <td>0.093000</td>\n",
       "      <td>3.584000</td>\n",
       "      <td>4.702500</td>\n",
       "      <td>7.319250</td>\n",
       "      <td>16.875250</td>\n",
       "      <td>453.894745</td>\n",
       "      <td>0.143500</td>\n",
       "      <td>8.590750</td>\n",
       "      <td>76.724751</td>\n",
       "      <td>...</td>\n",
       "      <td>2.000000</td>\n",
       "      <td>14.250000</td>\n",
       "      <td>288.170631</td>\n",
       "      <td>3271.908691</td>\n",
       "      <td>26.897866</td>\n",
       "      <td>176.393120</td>\n",
       "      <td>0.078231</td>\n",
       "      <td>527.917984</td>\n",
       "      <td>118.870519</td>\n",
       "      <td>11766.004720</td>\n",
       "    </tr>\n",
       "    <tr>\n",
       "      <th>max</th>\n",
       "      <td>2.616000</td>\n",
       "      <td>2.616000</td>\n",
       "      <td>4.370000</td>\n",
       "      <td>6.870000</td>\n",
       "      <td>7.861000</td>\n",
       "      <td>20.177000</td>\n",
       "      <td>515.054993</td>\n",
       "      <td>0.332000</td>\n",
       "      <td>17.844999</td>\n",
       "      <td>128.112000</td>\n",
       "      <td>...</td>\n",
       "      <td>4.000000</td>\n",
       "      <td>26.000000</td>\n",
       "      <td>375.750000</td>\n",
       "      <td>3337.837402</td>\n",
       "      <td>27.606396</td>\n",
       "      <td>308.049988</td>\n",
       "      <td>0.125886</td>\n",
       "      <td>546.718994</td>\n",
       "      <td>268.959965</td>\n",
       "      <td>32942.794903</td>\n",
       "    </tr>\n",
       "  </tbody>\n",
       "</table>\n",
       "<p>8 rows × 28 columns</p>\n",
       "</div>"
      ],
      "text/plain": [
       "       bsgm_wpgp_2015_dst  guf_ghsl_dst_2014  ccilc_dst011_2015  \\\n",
       "count           16.000000          16.000000          16.000000   \n",
       "mean             0.291000           0.291000           1.908938   \n",
       "std              0.670436           0.670436           1.696346   \n",
       "min             -0.092000          -0.092000          -0.093000   \n",
       "25%              0.000000           0.000000           0.543750   \n",
       "50%              0.092000           0.092000           1.346000   \n",
       "75%              0.093000           0.093000           3.584000   \n",
       "max              2.616000           2.616000           4.370000   \n",
       "\n",
       "       ccilc_dst040_2015  ccilc_dst130_2015  ccilc_dst140_2015  \\\n",
       "count          16.000000          16.000000          16.000000   \n",
       "mean            2.742125           6.089812          12.130437   \n",
       "std             2.257910           1.606568           5.271829   \n",
       "min             0.000000           1.855000           4.595000   \n",
       "25%             0.787000           5.455750           7.467500   \n",
       "50%             2.115000           6.497000          11.598000   \n",
       "75%             4.702500           7.319250          16.875250   \n",
       "max             6.870000           7.861000          20.177000   \n",
       "\n",
       "       ccilc_dst150_2015  ccilc_dst160_2015  ccilc_dst190_2015  \\\n",
       "count          16.000000          16.000000          16.000000   \n",
       "mean          416.118061           0.047750           6.049187   \n",
       "std            58.893230           0.158975           4.485972   \n",
       "min           342.837006          -0.367000           1.443000   \n",
       "25%           372.961990           0.000000           2.403500   \n",
       "50%           403.103500           0.046000           5.270000   \n",
       "75%           453.894745           0.143500           8.590750   \n",
       "max           515.054993           0.332000          17.844999   \n",
       "\n",
       "       ccilc_dst200_2015  ...      slope       topo  tt50k_2000   wclim_prec  \\\n",
       "count          16.000000  ...  16.000000  16.000000   16.000000    16.000000   \n",
       "mean           48.024750  ...   1.437500  10.625000  242.637347  3124.614685   \n",
       "std            44.009872  ...   1.152895   7.762087   79.631698   160.140490   \n",
       "min             3.920000  ...   0.000000   0.000000   50.537498  2909.912598   \n",
       "25%            12.926250  ...   0.750000   5.500000  206.012505  2990.971924   \n",
       "50%            30.063500  ...   1.500000   8.500000  232.313751  3145.037476   \n",
       "75%            76.724751  ...   2.000000  14.250000  288.170631  3271.908691   \n",
       "max           128.112000  ...   4.000000  26.000000  375.750000  3337.837402   \n",
       "\n",
       "       wclim_temp  urbanaccessibility_2015  viirs_2016  wdpa_cat1_dst_2017  \\\n",
       "count   16.000000                16.000000   16.000000           16.000000   \n",
       "mean    26.709874               136.337343    0.059703          502.044809   \n",
       "std      0.520104                94.486583    0.033226           35.938269   \n",
       "min     26.143747                14.212500    0.015195          437.378998   \n",
       "25%     26.316563                45.840625    0.030907          481.078247   \n",
       "50%     26.517760               142.651253    0.051091          511.487000   \n",
       "75%     26.897866               176.393120    0.078231          527.917984   \n",
       "max     27.606396               308.049988    0.125886          546.718994   \n",
       "\n",
       "       DIST_TO_MANGROVE      area_sqm  \n",
       "count         16.000000     16.000000  \n",
       "mean          44.186679   8877.040063  \n",
       "std          123.329141   9978.923675  \n",
       "min         -148.606878      0.000000  \n",
       "25%          -46.335856   1407.689526  \n",
       "50%           54.995237   6113.857780  \n",
       "75%          118.870519  11766.004720  \n",
       "max          268.959965  32942.794903  \n",
       "\n",
       "[8 rows x 28 columns]"
      ]
     },
     "execution_count": 14,
     "metadata": {},
     "output_type": "execute_result"
    }
   ],
   "source": [
    "# set up x and y as data frames\n",
    "y = df.log_population\n",
    "x = df.drop(\n",
    "    ['Population','log_population','Population_1','DIST_TO_MANGROVE_1','VillageID_1']\n",
    "    ,axis=1\n",
    ")\n",
    "x.describe()"
   ]
  },
  {
   "cell_type": "code",
   "execution_count": 15,
   "metadata": {},
   "outputs": [],
   "source": [
    "# the pairplot is slow to produce and not so useful\n",
    "#pairplot(df[df.columns[0:8]])"
   ]
  },
  {
   "cell_type": "code",
   "execution_count": 16,
   "metadata": {},
   "outputs": [],
   "source": [
    "# use the default random forest regressor for an initial test\n",
    "from sklearn.ensemble import RandomForestRegressor\n",
    "regr = RandomForestRegressor(oob_score=True,n_estimators=500)"
   ]
  },
  {
   "cell_type": "code",
   "execution_count": 17,
   "metadata": {},
   "outputs": [
    {
     "data": {
      "text/plain": [
       "RandomForestRegressor(bootstrap=True, ccp_alpha=0.0, criterion='mse',\n",
       "                      max_depth=None, max_features='auto', max_leaf_nodes=None,\n",
       "                      max_samples=None, min_impurity_decrease=0.0,\n",
       "                      min_impurity_split=None, min_samples_leaf=1,\n",
       "                      min_samples_split=2, min_weight_fraction_leaf=0.0,\n",
       "                      n_estimators=500, n_jobs=None, oob_score=True,\n",
       "                      random_state=None, verbose=0, warm_start=False)"
      ]
     },
     "execution_count": 17,
     "metadata": {},
     "output_type": "execute_result"
    }
   ],
   "source": [
    "regr.fit(x,y.values)"
   ]
  },
  {
   "cell_type": "code",
   "execution_count": 18,
   "metadata": {},
   "outputs": [
    {
     "name": "stdout",
     "output_type": "stream",
     "text": [
      "bsgm_wpgp_2015_dst: 0.07297511170410739\n",
      "guf_ghsl_dst_2014: 0.0796951268658569\n",
      "ccilc_dst011_2015: 0.013288033556923692\n",
      "ccilc_dst040_2015: 0.014695896485563388\n",
      "ccilc_dst130_2015: 0.02074430851242387\n",
      "ccilc_dst140_2015: 0.04366237651242971\n",
      "ccilc_dst150_2015: 0.0054280871720761735\n",
      "ccilc_dst160_2015: 0.01721133928506092\n",
      "ccilc_dst190_2015: 0.030581986188579834\n",
      "ccilc_dst200_2015: 0.006095384546120057\n",
      "ghsl_dst_2014: 0.022099551214274687\n",
      "guf_dst_2012: 0.059870470812320324\n",
      "cciwat_dst: 0.016292266832888345\n",
      "cciwat_dst_negative: 0.012433036743062611\n",
      "gpw4coast_dst: 0.007208662533829791\n",
      "osmint_dst: 0.05415038077962412\n",
      "osmriv_dst: 0.03067025078095323\n",
      "osmroa_dst: 0.01997702895508908\n",
      "slope: 0.020410917001166522\n",
      "topo: 0.1446703955759801\n",
      "tt50k_2000: 0.022573016166734062\n",
      "wclim_prec: 0.05805484030684958\n",
      "wclim_temp: 0.046048321551521054\n",
      "urbanaccessibility_2015: 0.01588311779593878\n",
      "viirs_2016: 0.009517267739074735\n",
      "wdpa_cat1_dst_2017: 0.013298571601744545\n",
      "DIST_TO_MANGROVE: 0.057549735079063226\n",
      "area_sqm: 0.08491451770074333\n"
     ]
    }
   ],
   "source": [
    "results = zip(x.columns,regr.feature_importances_)\n",
    "for result in results:\n",
    "    print('{}: {}'.format(result[0],result[1]))"
   ]
  },
  {
   "cell_type": "code",
   "execution_count": 19,
   "metadata": {},
   "outputs": [
    {
     "name": "stdout",
     "output_type": "stream",
     "text": [
      "-0.08652271539352441\n"
     ]
    }
   ],
   "source": [
    "print(regr.oob_score_)"
   ]
  },
  {
   "cell_type": "code",
   "execution_count": 20,
   "metadata": {},
   "outputs": [],
   "source": [
    "# small n, so use cross k-fold validation\n",
    "from sklearn.model_selection import KFold\n",
    "from sklearn.metrics import roc_curve, auc\n",
    "\n",
    "cv = KFold(n_splits=16,random_state=1,shuffle=True)"
   ]
  },
  {
   "cell_type": "code",
   "execution_count": 21,
   "metadata": {},
   "outputs": [],
   "source": [
    "def evaluate(model, test_features, test_labels):\n",
    "    predictions = model.predict(test_features)\n",
    "    errors = abs(predictions - test_labels)\n",
    "    # not necessary here with n=1, but useful for\n",
    "    # future when we may have more reults. \n",
    "    mape = 100 * np.mean(errors / test_labels)\n",
    "    accuracy = 100 - mape\n",
    "    print('Model Performance')\n",
    "    print('Average Error: {0:.1f} persons.'.format(np.exp(np.mean(errors))))\n",
    "    print('Accuracy = {0:.2f}%.'.format(accuracy))\n",
    "    \n",
    "    return accuracy"
   ]
  },
  {
   "cell_type": "code",
   "execution_count": 22,
   "metadata": {},
   "outputs": [
    {
     "name": "stdout",
     "output_type": "stream",
     "text": [
      "Model Performance\n",
      "Average Error: 1.3 persons.\n",
      "Accuracy = 94.78%.\n",
      "Model Performance\n",
      "Average Error: 1.3 persons.\n",
      "Accuracy = 94.70%.\n",
      "Model Performance\n",
      "Average Error: 1.4 persons.\n",
      "Accuracy = 94.48%.\n",
      "Model Performance\n",
      "Average Error: 1.8 persons.\n",
      "Accuracy = 90.84%.\n",
      "Model Performance\n",
      "Average Error: 1.4 persons.\n",
      "Accuracy = 94.59%.\n",
      "Model Performance\n",
      "Average Error: 1.2 persons.\n",
      "Accuracy = 97.27%.\n",
      "Model Performance\n",
      "Average Error: 1.8 persons.\n",
      "Accuracy = 90.73%.\n",
      "Model Performance\n",
      "Average Error: 1.1 persons.\n",
      "Accuracy = 98.37%.\n",
      "Model Performance\n",
      "Average Error: 1.6 persons.\n",
      "Accuracy = 91.62%.\n",
      "Model Performance\n",
      "Average Error: 1.9 persons.\n",
      "Accuracy = 88.01%.\n",
      "Model Performance\n",
      "Average Error: 1.3 persons.\n",
      "Accuracy = 95.98%.\n",
      "Model Performance\n",
      "Average Error: 4.8 persons.\n",
      "Accuracy = 66.05%.\n",
      "Model Performance\n",
      "Average Error: 1.9 persons.\n",
      "Accuracy = 90.09%.\n",
      "Model Performance\n",
      "Average Error: 1.4 persons.\n",
      "Accuracy = 95.09%.\n",
      "Model Performance\n",
      "Average Error: 2.8 persons.\n",
      "Accuracy = 85.01%.\n",
      "Model Performance\n",
      "Average Error: 1.2 persons.\n",
      "Accuracy = 96.77%.\n"
     ]
    }
   ],
   "source": [
    "accuracy = []\n",
    "clf = RandomForestRegressor(n_estimators=500)\n",
    "#x_ = pd.DataFrame(x.values,columns=x.columns)\n",
    "for (train, test), i in zip(cv.split(x,y), range(16)):\n",
    "    clf.fit(x.iloc[train],y.iloc[train])\n",
    "    predict = clf.predict(x.iloc[test])\n",
    "    accuracy.append(evaluate(clf,x.iloc[test],y.iloc[test]))\n"
   ]
  },
  {
   "cell_type": "code",
   "execution_count": 23,
   "metadata": {},
   "outputs": [
    {
     "name": "stdout",
     "output_type": "stream",
     "text": [
      "Overall average accuracy: 91.52%\n",
      "Best accuracy achieved: 98.37%\n",
      "Worst accuracy achieved: 66.05%\n"
     ]
    }
   ],
   "source": [
    "print('Overall average accuracy: {0:.2f}%'.format(sum(accuracy) / len(accuracy)))\n",
    "print('Best accuracy achieved: {0:.2f}%'.format(max(accuracy)))\n",
    "print('Worst accuracy achieved: {0:.2f}%'.format(min(accuracy)))"
   ]
  },
  {
   "cell_type": "markdown",
   "metadata": {},
   "source": [
    "## Use hyperparameter tuning\n",
    "Based on sklearn documentation and this post:\n",
    "https://towardsdatascience.com/hyperparameter-tuning-the-random-forest-in-python-using-scikit-learn-28d2aa77dd74"
   ]
  },
  {
   "cell_type": "code",
   "execution_count": 24,
   "metadata": {},
   "outputs": [
    {
     "name": "stdout",
     "output_type": "stream",
     "text": [
      "{'bootstrap': True,\n",
      " 'ccp_alpha': 0.0,\n",
      " 'criterion': 'mse',\n",
      " 'max_depth': None,\n",
      " 'max_features': 'auto',\n",
      " 'max_leaf_nodes': None,\n",
      " 'max_samples': None,\n",
      " 'min_impurity_decrease': 0.0,\n",
      " 'min_impurity_split': None,\n",
      " 'min_samples_leaf': 1,\n",
      " 'min_samples_split': 2,\n",
      " 'min_weight_fraction_leaf': 0.0,\n",
      " 'n_estimators': 100,\n",
      " 'n_jobs': None,\n",
      " 'oob_score': False,\n",
      " 'random_state': 42,\n",
      " 'verbose': 0,\n",
      " 'warm_start': False}\n"
     ]
    }
   ],
   "source": [
    "from pprint import pprint\n",
    "rf = RandomForestRegressor(random_state = 42)\n",
    "pprint(rf.get_params())"
   ]
  },
  {
   "cell_type": "code",
   "execution_count": 25,
   "metadata": {},
   "outputs": [
    {
     "name": "stdout",
     "output_type": "stream",
     "text": [
      "{'bootstrap': [True, False],\n",
      " 'max_depth': [10, 20, 30, 40, 50, 60, 70, 80, 90, 100, 110, None],\n",
      " 'max_features': ['auto', 'sqrt'],\n",
      " 'min_samples_leaf': [1, 2, 4],\n",
      " 'min_samples_split': [2, 5, 10],\n",
      " 'n_estimators': [200, 400, 600, 800, 1000, 1200, 1400, 1600, 1800, 2000]}\n"
     ]
    }
   ],
   "source": [
    "from sklearn.model_selection import RandomizedSearchCV\n",
    "# Number of trees in random forest\n",
    "n_estimators = [int(x) for x in np.linspace(start = 200, stop = 2000, num = 10)]\n",
    "# Number of features to consider at every split\n",
    "max_features = ['auto', 'sqrt']\n",
    "# Maximum number of levels in tree\n",
    "max_depth = [int(x) for x in np.linspace(10, 110, num = 11)]\n",
    "max_depth.append(None)\n",
    "# Minimum number of samples required to split a node\n",
    "min_samples_split = [2, 5, 10]\n",
    "# Minimum number of samples required at each leaf node\n",
    "min_samples_leaf = [1, 2, 4]\n",
    "# Method of selecting samples for training each tree\n",
    "bootstrap = [True, False]# Create the random grid\n",
    "random_grid = {'n_estimators': n_estimators,\n",
    "               'max_features': max_features,\n",
    "               'max_depth': max_depth,\n",
    "               'min_samples_split': min_samples_split,\n",
    "               'min_samples_leaf': min_samples_leaf,\n",
    "               'bootstrap': bootstrap}\n",
    "\n",
    "pprint(random_grid)\n"
   ]
  },
  {
   "cell_type": "code",
   "execution_count": 26,
   "metadata": {},
   "outputs": [
    {
     "name": "stdout",
     "output_type": "stream",
     "text": [
      "Fitting 3 folds for each of 100 candidates, totalling 300 fits\n"
     ]
    },
    {
     "name": "stderr",
     "output_type": "stream",
     "text": [
      "[Parallel(n_jobs=24)]: Using backend LokyBackend with 24 concurrent workers.\n",
      "[Parallel(n_jobs=24)]: Done 114 tasks      | elapsed:   13.5s\n",
      "[Parallel(n_jobs=24)]: Done 300 out of 300 | elapsed:   32.8s finished\n"
     ]
    },
    {
     "data": {
      "text/plain": [
       "RandomizedSearchCV(cv=3, error_score=nan,\n",
       "                   estimator=RandomForestRegressor(bootstrap=True,\n",
       "                                                   ccp_alpha=0.0,\n",
       "                                                   criterion='mse',\n",
       "                                                   max_depth=None,\n",
       "                                                   max_features='auto',\n",
       "                                                   max_leaf_nodes=None,\n",
       "                                                   max_samples=None,\n",
       "                                                   min_impurity_decrease=0.0,\n",
       "                                                   min_impurity_split=None,\n",
       "                                                   min_samples_leaf=1,\n",
       "                                                   min_samples_split=2,\n",
       "                                                   min_weight_fraction_leaf=0.0,\n",
       "                                                   n_estimators=100,\n",
       "                                                   n_jobs=None, oob_score=Fals...\n",
       "                   param_distributions={'bootstrap': [True, False],\n",
       "                                        'max_depth': [10, 20, 30, 40, 50, 60,\n",
       "                                                      70, 80, 90, 100, 110,\n",
       "                                                      None],\n",
       "                                        'max_features': ['auto', 'sqrt'],\n",
       "                                        'min_samples_leaf': [1, 2, 4],\n",
       "                                        'min_samples_split': [2, 5, 10],\n",
       "                                        'n_estimators': [200, 400, 600, 800,\n",
       "                                                         1000, 1200, 1400, 1600,\n",
       "                                                         1800, 2000]},\n",
       "                   pre_dispatch='2*n_jobs', random_state=42, refit=True,\n",
       "                   return_train_score=False, scoring=None, verbose=2)"
      ]
     },
     "execution_count": 26,
     "metadata": {},
     "output_type": "execute_result"
    }
   ],
   "source": [
    "rf_random = RandomizedSearchCV(\n",
    "    estimator = rf, \n",
    "    param_distributions = random_grid, \n",
    "    n_iter = 100, \n",
    "    cv = 3, \n",
    "    verbose=2, \n",
    "    random_state=42, \n",
    "    n_jobs = 24 # run was on a large machine\n",
    "    #n_jobs = -1, # will use all cores )\n",
    ")\n",
    "rf_random.fit(x.values,y.values)"
   ]
  },
  {
   "cell_type": "code",
   "execution_count": 27,
   "metadata": {},
   "outputs": [
    {
     "data": {
      "text/plain": [
       "{'n_estimators': 600,\n",
       " 'min_samples_split': 10,\n",
       " 'min_samples_leaf': 1,\n",
       " 'max_features': 'sqrt',\n",
       " 'max_depth': 110,\n",
       " 'bootstrap': True}"
      ]
     },
     "execution_count": 27,
     "metadata": {},
     "output_type": "execute_result"
    }
   ],
   "source": [
    "rf_random.best_params_"
   ]
  },
  {
   "cell_type": "code",
   "execution_count": 28,
   "metadata": {},
   "outputs": [
    {
     "name": "stdout",
     "output_type": "stream",
     "text": [
      "Model Performance\n",
      "Average Error: 1.1 persons.\n",
      "Accuracy = 97.97%.\n",
      "Model Performance\n",
      "Average Error: 1.1 persons.\n",
      "Accuracy = 98.22%.\n",
      "Model Performance\n",
      "Average Error: 1.1 persons.\n",
      "Accuracy = 97.58%.\n",
      "Model Performance\n",
      "Average Error: 1.2 persons.\n",
      "Accuracy = 96.43%.\n",
      "Model Performance\n",
      "Average Error: 1.1 persons.\n",
      "Accuracy = 98.46%.\n",
      "Model Performance\n",
      "Average Error: 1.0 persons.\n",
      "Accuracy = 99.34%.\n",
      "Model Performance\n",
      "Average Error: 1.2 persons.\n",
      "Accuracy = 96.70%.\n",
      "Model Performance\n",
      "Average Error: 1.0 persons.\n",
      "Accuracy = 99.73%.\n",
      "Model Performance\n",
      "Average Error: 1.2 persons.\n",
      "Accuracy = 96.75%.\n",
      "Model Performance\n",
      "Average Error: 1.3 persons.\n",
      "Accuracy = 95.77%.\n",
      "Model Performance\n",
      "Average Error: 1.1 persons.\n",
      "Accuracy = 98.33%.\n",
      "Model Performance\n",
      "Average Error: 1.8 persons.\n",
      "Accuracy = 87.20%.\n",
      "Model Performance\n",
      "Average Error: 1.2 persons.\n",
      "Accuracy = 96.94%.\n",
      "Model Performance\n",
      "Average Error: 1.1 persons.\n",
      "Accuracy = 98.16%.\n",
      "Model Performance\n",
      "Average Error: 1.5 persons.\n",
      "Accuracy = 94.31%.\n",
      "Model Performance\n",
      "Average Error: 1.2 persons.\n",
      "Accuracy = 96.77%.\n"
     ]
    }
   ],
   "source": [
    "# use the \"best\" parameters to evaluate the model with \n",
    "# leave-one-out test and training data. \n",
    "\n",
    "rf = RandomForestRegressor(\n",
    "    bootstrap=True,\n",
    "    max_depth=110,\n",
    "    max_features= 'sqrt',\n",
    "    min_samples_leaf=1,\n",
    "    min_samples_split=10,\n",
    "    n_estimators=600\n",
    ")\n",
    "accuracy = []\n",
    "for (train, test), i in zip(cv.split(x,y), range(16)):\n",
    "    rf.fit(x.iloc[train],y.iloc[train])\n",
    "    predict = clf.predict(x.iloc[test])\n",
    "    accuracy.append(evaluate(clf,x.iloc[test],y.iloc[test]))\n",
    "    "
   ]
  },
  {
   "cell_type": "code",
   "execution_count": 29,
   "metadata": {},
   "outputs": [
    {
     "name": "stdout",
     "output_type": "stream",
     "text": [
      "Overall average accuracy: 96.8%\n",
      "Best accuracy achieved: 99.7%\n",
      "Worst accuracy achieved: 87.2%\n"
     ]
    }
   ],
   "source": [
    "print('Overall average accuracy: {0:.1f}%'.format(sum(accuracy) / len(accuracy)))\n",
    "print('Best accuracy achieved: {0:.1f}%'.format(max(accuracy)))\n",
    "print('Worst accuracy achieved: {0:.1f}%'.format(min(accuracy)))"
   ]
  },
  {
   "cell_type": "markdown",
   "metadata": {},
   "source": [
    "Roughly 5% improvement using hyerparameters. Train on all data, then predict. Small n, so we are using the whole data set and out of bag score for the model"
   ]
  },
  {
   "cell_type": "code",
   "execution_count": 30,
   "metadata": {},
   "outputs": [
    {
     "data": {
      "text/plain": [
       "-0.058371482221491355"
      ]
     },
     "execution_count": 30,
     "metadata": {},
     "output_type": "execute_result"
    }
   ],
   "source": [
    "rf.oob_score = True\n",
    "rf.fit(x,y)\n",
    "rf.oob_score_"
   ]
  },
  {
   "cell_type": "markdown",
   "metadata": {},
   "source": [
    "Although the test-train-split shows good results, the OOB score indicates that the model is **not very good**. We need more data points to realistically use ML for this prediction. "
   ]
  },
  {
   "cell_type": "code",
   "execution_count": 31,
   "metadata": {},
   "outputs": [
    {
     "data": {
      "text/html": [
       "<div>\n",
       "<style scoped>\n",
       "    .dataframe tbody tr th:only-of-type {\n",
       "        vertical-align: middle;\n",
       "    }\n",
       "\n",
       "    .dataframe tbody tr th {\n",
       "        vertical-align: top;\n",
       "    }\n",
       "\n",
       "    .dataframe thead th {\n",
       "        text-align: right;\n",
       "    }\n",
       "</style>\n",
       "<table border=\"1\" class=\"dataframe\">\n",
       "  <thead>\n",
       "    <tr style=\"text-align: right;\">\n",
       "      <th></th>\n",
       "      <th>sle</th>\n",
       "      <th>bsgm_wpgp_2015_dst</th>\n",
       "      <th>guf_ghsl_dst_2014</th>\n",
       "      <th>dmsp_2011</th>\n",
       "      <th>ccilc_dst011_2015</th>\n",
       "      <th>ccilc_dst040_2015</th>\n",
       "      <th>ccilc_dst130_2015</th>\n",
       "      <th>ccilc_dst140_2015</th>\n",
       "      <th>ccilc_dst150_2015</th>\n",
       "      <th>ccilc_dst160_2015</th>\n",
       "      <th>...</th>\n",
       "      <th>slope</th>\n",
       "      <th>topo</th>\n",
       "      <th>tt50k_2000</th>\n",
       "      <th>wclim_prec</th>\n",
       "      <th>wclim_temp</th>\n",
       "      <th>urbanaccessibility_2015</th>\n",
       "      <th>viirs_2016</th>\n",
       "      <th>wdpa_cat1_dst_2017</th>\n",
       "      <th>area_sqm</th>\n",
       "      <th>DIST_TO_MANGROVE</th>\n",
       "    </tr>\n",
       "    <tr>\n",
       "      <th>Id</th>\n",
       "      <th></th>\n",
       "      <th></th>\n",
       "      <th></th>\n",
       "      <th></th>\n",
       "      <th></th>\n",
       "      <th></th>\n",
       "      <th></th>\n",
       "      <th></th>\n",
       "      <th></th>\n",
       "      <th></th>\n",
       "      <th></th>\n",
       "      <th></th>\n",
       "      <th></th>\n",
       "      <th></th>\n",
       "      <th></th>\n",
       "      <th></th>\n",
       "      <th></th>\n",
       "      <th></th>\n",
       "      <th></th>\n",
       "      <th></th>\n",
       "      <th></th>\n",
       "    </tr>\n",
       "  </thead>\n",
       "  <tbody>\n",
       "    <tr>\n",
       "      <th>5219131</th>\n",
       "      <td>1</td>\n",
       "      <td>0.000</td>\n",
       "      <td>0.000</td>\n",
       "      <td>0.0</td>\n",
       "      <td>0.366</td>\n",
       "      <td>0.000</td>\n",
       "      <td>0.093</td>\n",
       "      <td>14.771000</td>\n",
       "      <td>363.092987</td>\n",
       "      <td>2.641</td>\n",
       "      <td>...</td>\n",
       "      <td>3.0</td>\n",
       "      <td>14.0</td>\n",
       "      <td>213.500000</td>\n",
       "      <td>3053.074951</td>\n",
       "      <td>27.424271</td>\n",
       "      <td>97.987503</td>\n",
       "      <td>0.025645</td>\n",
       "      <td>518.198975</td>\n",
       "      <td>1876.369037</td>\n",
       "      <td>32.494005</td>\n",
       "    </tr>\n",
       "    <tr>\n",
       "      <th>5219462</th>\n",
       "      <td>2</td>\n",
       "      <td>0.000</td>\n",
       "      <td>0.000</td>\n",
       "      <td>0.0</td>\n",
       "      <td>0.366</td>\n",
       "      <td>0.000</td>\n",
       "      <td>0.093</td>\n",
       "      <td>14.771000</td>\n",
       "      <td>363.092987</td>\n",
       "      <td>2.641</td>\n",
       "      <td>...</td>\n",
       "      <td>3.0</td>\n",
       "      <td>14.0</td>\n",
       "      <td>213.500000</td>\n",
       "      <td>3053.074951</td>\n",
       "      <td>27.424271</td>\n",
       "      <td>97.987503</td>\n",
       "      <td>0.025645</td>\n",
       "      <td>518.198975</td>\n",
       "      <td>938.185935</td>\n",
       "      <td>66.998024</td>\n",
       "    </tr>\n",
       "    <tr>\n",
       "      <th>5219816</th>\n",
       "      <td>3</td>\n",
       "      <td>0.092</td>\n",
       "      <td>0.092</td>\n",
       "      <td>0.0</td>\n",
       "      <td>0.185</td>\n",
       "      <td>0.207</td>\n",
       "      <td>-0.093</td>\n",
       "      <td>14.192000</td>\n",
       "      <td>362.609009</td>\n",
       "      <td>2.237</td>\n",
       "      <td>...</td>\n",
       "      <td>3.0</td>\n",
       "      <td>9.0</td>\n",
       "      <td>204.250000</td>\n",
       "      <td>3061.050049</td>\n",
       "      <td>27.445520</td>\n",
       "      <td>99.512497</td>\n",
       "      <td>0.040240</td>\n",
       "      <td>518.778015</td>\n",
       "      <td>1876.373995</td>\n",
       "      <td>124.069953</td>\n",
       "    </tr>\n",
       "    <tr>\n",
       "      <th>5225895</th>\n",
       "      <td>4</td>\n",
       "      <td>0.000</td>\n",
       "      <td>0.000</td>\n",
       "      <td>0.0</td>\n",
       "      <td>0.000</td>\n",
       "      <td>0.464</td>\n",
       "      <td>0.721</td>\n",
       "      <td>14.329000</td>\n",
       "      <td>342.838013</td>\n",
       "      <td>0.093</td>\n",
       "      <td>...</td>\n",
       "      <td>2.0</td>\n",
       "      <td>16.0</td>\n",
       "      <td>439.112488</td>\n",
       "      <td>3343.070068</td>\n",
       "      <td>27.902748</td>\n",
       "      <td>168.707504</td>\n",
       "      <td>0.043453</td>\n",
       "      <td>541.991028</td>\n",
       "      <td>7505.677160</td>\n",
       "      <td>92.888436</td>\n",
       "    </tr>\n",
       "    <tr>\n",
       "      <th>5228640</th>\n",
       "      <td>5</td>\n",
       "      <td>0.093</td>\n",
       "      <td>0.093</td>\n",
       "      <td>0.0</td>\n",
       "      <td>0.093</td>\n",
       "      <td>1.692</td>\n",
       "      <td>3.939</td>\n",
       "      <td>22.743999</td>\n",
       "      <td>335.585999</td>\n",
       "      <td>0.000</td>\n",
       "      <td>...</td>\n",
       "      <td>1.0</td>\n",
       "      <td>12.0</td>\n",
       "      <td>272.977509</td>\n",
       "      <td>3384.245117</td>\n",
       "      <td>27.980728</td>\n",
       "      <td>194.307495</td>\n",
       "      <td>0.008730</td>\n",
       "      <td>550.773010</td>\n",
       "      <td>938.220597</td>\n",
       "      <td>88.822212</td>\n",
       "    </tr>\n",
       "  </tbody>\n",
       "</table>\n",
       "<p>5 rows × 31 columns</p>\n",
       "</div>"
      ],
      "text/plain": [
       "         sle  bsgm_wpgp_2015_dst  guf_ghsl_dst_2014  dmsp_2011  \\\n",
       "Id                                                               \n",
       "5219131    1               0.000              0.000        0.0   \n",
       "5219462    2               0.000              0.000        0.0   \n",
       "5219816    3               0.092              0.092        0.0   \n",
       "5225895    4               0.000              0.000        0.0   \n",
       "5228640    5               0.093              0.093        0.0   \n",
       "\n",
       "         ccilc_dst011_2015  ccilc_dst040_2015  ccilc_dst130_2015  \\\n",
       "Id                                                                 \n",
       "5219131              0.366              0.000              0.093   \n",
       "5219462              0.366              0.000              0.093   \n",
       "5219816              0.185              0.207             -0.093   \n",
       "5225895              0.000              0.464              0.721   \n",
       "5228640              0.093              1.692              3.939   \n",
       "\n",
       "         ccilc_dst140_2015  ccilc_dst150_2015  ccilc_dst160_2015  ...  slope  \\\n",
       "Id                                                                ...          \n",
       "5219131          14.771000         363.092987              2.641  ...    3.0   \n",
       "5219462          14.771000         363.092987              2.641  ...    3.0   \n",
       "5219816          14.192000         362.609009              2.237  ...    3.0   \n",
       "5225895          14.329000         342.838013              0.093  ...    2.0   \n",
       "5228640          22.743999         335.585999              0.000  ...    1.0   \n",
       "\n",
       "         topo  tt50k_2000   wclim_prec  wclim_temp  urbanaccessibility_2015  \\\n",
       "Id                                                                            \n",
       "5219131  14.0  213.500000  3053.074951   27.424271                97.987503   \n",
       "5219462  14.0  213.500000  3053.074951   27.424271                97.987503   \n",
       "5219816   9.0  204.250000  3061.050049   27.445520                99.512497   \n",
       "5225895  16.0  439.112488  3343.070068   27.902748               168.707504   \n",
       "5228640  12.0  272.977509  3384.245117   27.980728               194.307495   \n",
       "\n",
       "         viirs_2016  wdpa_cat1_dst_2017     area_sqm  DIST_TO_MANGROVE  \n",
       "Id                                                                      \n",
       "5219131    0.025645          518.198975  1876.369037         32.494005  \n",
       "5219462    0.025645          518.198975   938.185935         66.998024  \n",
       "5219816    0.040240          518.778015  1876.373995        124.069953  \n",
       "5225895    0.043453          541.991028  7505.677160         92.888436  \n",
       "5228640    0.008730          550.773010   938.220597         88.822212  \n",
       "\n",
       "[5 rows x 31 columns]"
      ]
     },
     "execution_count": 31,
     "metadata": {},
     "output_type": "execute_result"
    }
   ],
   "source": [
    "# read in the data frame with the covariates\n",
    "sle_df = pd.read_csv('sle_rf_inputs.csv')\n",
    "sle_df.set_index('Id',inplace=True)\n",
    "sle_df.head()"
   ]
  },
  {
   "cell_type": "code",
   "execution_count": 32,
   "metadata": {},
   "outputs": [
    {
     "data": {
      "text/plain": [
       "(2763, 28)"
      ]
     },
     "execution_count": 32,
     "metadata": {},
     "output_type": "execute_result"
    }
   ],
   "source": [
    "x_predict = sle_df.drop(['sle','cciwat_cls','dmsp_2011'],axis=1)\n",
    "x_predict.shape"
   ]
  },
  {
   "cell_type": "code",
   "execution_count": 33,
   "metadata": {},
   "outputs": [
    {
     "data": {
      "text/plain": [
       "(16, 28)"
      ]
     },
     "execution_count": 33,
     "metadata": {},
     "output_type": "execute_result"
    }
   ],
   "source": [
    "x.shape"
   ]
  },
  {
   "cell_type": "code",
   "execution_count": 34,
   "metadata": {},
   "outputs": [
    {
     "name": "stdout",
     "output_type": "stream",
     "text": [
      "Mismatch: ('DIST_TO_MANGROVE', 'area_sqm')\n",
      "Mismatch: ('area_sqm', 'DIST_TO_MANGROVE')\n",
      "0\n"
     ]
    }
   ],
   "source": [
    "# check order of columns, must be identical! \n",
    "predictCols = x.columns\n",
    "sleCols = x_predict.columns\n",
    "colCheck = zip(predictCols,sleCols)\n",
    "for c in colCheck:\n",
    "    if c[0] != c[1]:\n",
    "        print('Mismatch: {}'.format(c))\n",
    "\n",
    "print(len(sleCols) - len(predictCols))"
   ]
  },
  {
   "cell_type": "code",
   "execution_count": 35,
   "metadata": {},
   "outputs": [],
   "source": [
    "# reset x_predict columns to match x\n",
    "x_predict = x_predict[predictCols]"
   ]
  },
  {
   "cell_type": "code",
   "execution_count": 36,
   "metadata": {},
   "outputs": [],
   "source": [
    "predictions = rf.predict(x_predict)"
   ]
  },
  {
   "cell_type": "code",
   "execution_count": 37,
   "metadata": {},
   "outputs": [
    {
     "data": {
      "text/plain": [
       "array([5.92839088, 5.92839088, 5.95551779, ..., 5.91652232, 5.70074396,\n",
       "       5.70124082])"
      ]
     },
     "execution_count": 37,
     "metadata": {},
     "output_type": "execute_result"
    }
   ],
   "source": [
    "predictions"
   ]
  },
  {
   "cell_type": "code",
   "execution_count": 38,
   "metadata": {},
   "outputs": [
    {
     "data": {
      "text/plain": [
       "5.52050477026142"
      ]
     },
     "execution_count": 38,
     "metadata": {},
     "output_type": "execute_result"
    }
   ],
   "source": [
    "predictions.min()"
   ]
  },
  {
   "cell_type": "code",
   "execution_count": 39,
   "metadata": {},
   "outputs": [
    {
     "data": {
      "text/plain": [
       "2763"
      ]
     },
     "execution_count": 39,
     "metadata": {},
     "output_type": "execute_result"
    }
   ],
   "source": [
    "len(predictions)"
   ]
  },
  {
   "cell_type": "code",
   "execution_count": 40,
   "metadata": {},
   "outputs": [
    {
     "data": {
      "text/plain": [
       "249.7610773406594"
      ]
     },
     "execution_count": 40,
     "metadata": {},
     "output_type": "execute_result"
    }
   ],
   "source": [
    "np.exp(predictions).min()"
   ]
  },
  {
   "cell_type": "code",
   "execution_count": 41,
   "metadata": {},
   "outputs": [
    {
     "data": {
      "text/plain": [
       "436.34692499716385"
      ]
     },
     "execution_count": 41,
     "metadata": {},
     "output_type": "execute_result"
    }
   ],
   "source": [
    "np.exp(predictions).max()"
   ]
  },
  {
   "cell_type": "code",
   "execution_count": 42,
   "metadata": {},
   "outputs": [],
   "source": [
    "output = zip(x_predict.index,predictions)\n",
    "with open('sle_predictions_rf.csv','w') as f:\n",
    "    f.writelines('ID,pop_predicted_rf\\n')\n",
    "    for line in output:\n",
    "        f.writelines('{},{}\\n'.format(line[0],line[1]))\n",
    "        "
   ]
  },
  {
   "cell_type": "code",
   "execution_count": 43,
   "metadata": {},
   "outputs": [],
   "source": [
    "# predict for other countries\n",
    "def predict_country(iso):\n",
    "    pred_df = pd.read_csv('./{}_rf_inputs.csv'.format(iso))\n",
    "    pred_df.set_index('Id',inplace=True)\n",
    "    # drop columns not in model and fill any nan values\n",
    "    x_predict = pred_df.drop([iso,'cciwat_cls','dmsp_2011'],axis=1).fillna(0)\n",
    "\n",
    "\n",
    "    predictions = rf.predict(x_predict)\n",
    "    pop_predictions = zip(x_predict.index,predictions)\n",
    "    with open('{}_predictions_rf.csv'.format(iso),'w') as f:\n",
    "        f.writelines('ID,pop_predicted_rf\\n')\n",
    "        for line in pop_predictions:\n",
    "            f.writelines('{},{}\\n'.format(line[0],line[1]))\n",
    "    print('prediction complete for {}'.format(iso))"
   ]
  },
  {
   "cell_type": "code",
   "execution_count": 44,
   "metadata": {},
   "outputs": [
    {
     "data": {
      "text/plain": [
       "['ben', 'civ', 'gab', 'gha', 'gin', 'gmb', 'gnb', 'sle']"
      ]
     },
     "execution_count": 44,
     "metadata": {},
     "output_type": "execute_result"
    }
   ],
   "source": [
    "import glob\n",
    "isos = [iso[:3] for iso in glob.glob('*_rf_inputs.csv')]\n",
    "isos"
   ]
  },
  {
   "cell_type": "code",
   "execution_count": 45,
   "metadata": {},
   "outputs": [
    {
     "name": "stdout",
     "output_type": "stream",
     "text": [
      "Predicting ben\n",
      "prediction complete for ben\n",
      "Predicting civ\n",
      "prediction complete for civ\n",
      "Predicting gab\n",
      "prediction complete for gab\n",
      "Predicting gha\n",
      "prediction complete for gha\n",
      "Predicting gin\n",
      "prediction complete for gin\n",
      "Predicting gmb\n",
      "prediction complete for gmb\n",
      "Predicting gnb\n",
      "prediction complete for gnb\n",
      "Predicting sle\n",
      "prediction complete for sle\n"
     ]
    }
   ],
   "source": [
    "for iso in isos:\n",
    "    print('Predicting {}'.format(iso))\n",
    "    predict_country(iso)"
   ]
  },
  {
   "cell_type": "code",
   "execution_count": null,
   "metadata": {},
   "outputs": [],
   "source": []
  }
 ],
 "metadata": {
  "kernelspec": {
   "display_name": "Python 3",
   "language": "python",
   "name": "python3"
  },
  "language_info": {
   "codemirror_mode": {
    "name": "ipython",
    "version": 3
   },
   "file_extension": ".py",
   "mimetype": "text/x-python",
   "name": "python",
   "nbconvert_exporter": "python",
   "pygments_lexer": "ipython3",
   "version": "3.6.9"
  }
 },
 "nbformat": 4,
 "nbformat_minor": 2
}
