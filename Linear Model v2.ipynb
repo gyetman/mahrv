{
 "cells": [
  {
   "cell_type": "markdown",
   "metadata": {},
   "source": [
    "## Load sample village data and perform linear regression"
   ]
  },
  {
   "cell_type": "markdown",
   "metadata": {},
   "source": [
    "#### Using a simple population-area relationship based on village areas from HRSL and population estimates of villages visited"
   ]
  },
  {
   "cell_type": "code",
   "execution_count": 1,
   "metadata": {},
   "outputs": [],
   "source": [
    "# imports\n",
    "import pandas as pd\n",
    "import numpy as np\n",
    "import matplotlib.pyplot as plt\n",
    "from sklearn.preprocessing import StandardScaler\n",
    "from scipy import stats"
   ]
  },
  {
   "cell_type": "code",
   "execution_count": 2,
   "metadata": {},
   "outputs": [
    {
     "name": "stdout",
     "output_type": "stream",
     "text": [
      "(15, 8)\n"
     ]
    },
    {
     "data": {
      "text/html": [
       "<div>\n",
       "<style scoped>\n",
       "    .dataframe tbody tr th:only-of-type {\n",
       "        vertical-align: middle;\n",
       "    }\n",
       "\n",
       "    .dataframe tbody tr th {\n",
       "        vertical-align: top;\n",
       "    }\n",
       "\n",
       "    .dataframe thead th {\n",
       "        text-align: right;\n",
       "    }\n",
       "</style>\n",
       "<table border=\"1\" class=\"dataframe\">\n",
       "  <thead>\n",
       "    <tr style=\"text-align: right;\">\n",
       "      <th></th>\n",
       "      <th>area_sqm</th>\n",
       "      <th>Region</th>\n",
       "      <th>Area</th>\n",
       "      <th>Locality</th>\n",
       "      <th>Population</th>\n",
       "      <th>HRSL_POP</th>\n",
       "      <th>HRSL_DENS</th>\n",
       "      <th>Village_dens</th>\n",
       "    </tr>\n",
       "    <tr>\n",
       "      <th>VillageID</th>\n",
       "      <th></th>\n",
       "      <th></th>\n",
       "      <th></th>\n",
       "      <th></th>\n",
       "      <th></th>\n",
       "      <th></th>\n",
       "      <th></th>\n",
       "      <th></th>\n",
       "    </tr>\n",
       "  </thead>\n",
       "  <tbody>\n",
       "    <tr>\n",
       "      <th>8</th>\n",
       "      <td>36639.22262</td>\n",
       "      <td>Northern</td>\n",
       "      <td>SLRE</td>\n",
       "      <td>Gberi Mamanki</td>\n",
       "      <td>700</td>\n",
       "      <td>257.029066</td>\n",
       "      <td>7015.134249</td>\n",
       "      <td>19105.208840</td>\n",
       "    </tr>\n",
       "    <tr>\n",
       "      <th>9</th>\n",
       "      <td>28181.89664</td>\n",
       "      <td>Northern</td>\n",
       "      <td>SLRE</td>\n",
       "      <td>Kafunka</td>\n",
       "      <td>386</td>\n",
       "      <td>197.714666</td>\n",
       "      <td>7015.662157</td>\n",
       "      <td>13696.736060</td>\n",
       "    </tr>\n",
       "    <tr>\n",
       "      <th>2</th>\n",
       "      <td>11261.51290</td>\n",
       "      <td>Northern</td>\n",
       "      <td>Scarcies</td>\n",
       "      <td>Mahelah</td>\n",
       "      <td>200</td>\n",
       "      <td>102.582727</td>\n",
       "      <td>9109.142627</td>\n",
       "      <td>17759.603160</td>\n",
       "    </tr>\n",
       "    <tr>\n",
       "      <th>3</th>\n",
       "      <td>21585.31227</td>\n",
       "      <td>Northern</td>\n",
       "      <td>Scarcies</td>\n",
       "      <td>Makumpa</td>\n",
       "      <td>270</td>\n",
       "      <td>196.616894</td>\n",
       "      <td>9108.827858</td>\n",
       "      <td>12508.505630</td>\n",
       "    </tr>\n",
       "    <tr>\n",
       "      <th>10</th>\n",
       "      <td>36645.51011</td>\n",
       "      <td>Northern</td>\n",
       "      <td>SLRE</td>\n",
       "      <td>Mange</td>\n",
       "      <td>300</td>\n",
       "      <td>312.325107</td>\n",
       "      <td>8522.875147</td>\n",
       "      <td>8186.541792</td>\n",
       "    </tr>\n",
       "  </tbody>\n",
       "</table>\n",
       "</div>"
      ],
      "text/plain": [
       "              area_sqm    Region      Area       Locality  Population  \\\n",
       "VillageID                                                               \n",
       "8          36639.22262  Northern      SLRE  Gberi Mamanki         700   \n",
       "9          28181.89664  Northern      SLRE        Kafunka         386   \n",
       "2          11261.51290  Northern  Scarcies        Mahelah         200   \n",
       "3          21585.31227  Northern  Scarcies        Makumpa         270   \n",
       "10         36645.51011  Northern      SLRE          Mange         300   \n",
       "\n",
       "             HRSL_POP    HRSL_DENS  Village_dens  \n",
       "VillageID                                         \n",
       "8          257.029066  7015.134249  19105.208840  \n",
       "9          197.714666  7015.662157  13696.736060  \n",
       "2          102.582727  9109.142627  17759.603160  \n",
       "3          196.616894  9108.827858  12508.505630  \n",
       "10         312.325107  8522.875147   8186.541792  "
      ]
     },
     "execution_count": 2,
     "metadata": {},
     "output_type": "execute_result"
    }
   ],
   "source": [
    "# read in village data with population & area\n",
    "df = pd.read_csv('./trimmed_pop_data.csv')\n",
    "df.set_index('VillageID',inplace=True)\n",
    "print(df.shape)\n",
    "df.head()"
   ]
  },
  {
   "cell_type": "code",
   "execution_count": 3,
   "metadata": {},
   "outputs": [
    {
     "data": {
      "text/plain": [
       "<matplotlib.axes._subplots.AxesSubplot at 0x1f7dc49a550>"
      ]
     },
     "execution_count": 3,
     "metadata": {},
     "output_type": "execute_result"
    },
    {
     "data": {
      "image/png": "[encoded data removed]",
      "text/plain": [
       "<Figure size 432x288 with 1 Axes>"
      ]
     },
     "metadata": {
      "needs_background": "light"
     },
     "output_type": "display_data"
    }
   ],
   "source": [
    "# examine data\n",
    "%matplotlib inline\n",
    "df.plot.scatter('area_sqm','Population')"
   ]
  },
  {
   "cell_type": "code",
   "execution_count": 4,
   "metadata": {},
   "outputs": [
    {
     "data": {
      "text/plain": [
       "count       15.000000\n",
       "mean     31029.962264\n",
       "std      20070.303411\n",
       "min       8456.781311\n",
       "25%      15041.170810\n",
       "50%      28181.896640\n",
       "75%      43265.176015\n",
       "max      69576.731900\n",
       "Name: area_sqm, dtype: float64"
      ]
     },
     "execution_count": 4,
     "metadata": {},
     "output_type": "execute_result"
    },
    {
     "data": {
      "image/png": "[encoded data removed]",
      "text/plain": [
       "<Figure size 432x288 with 1 Axes>"
      ]
     },
     "metadata": {
      "needs_background": "light"
     },
     "output_type": "display_data"
    }
   ],
   "source": [
    "df.area_sqm.hist()\n",
    "df.area_sqm.describe()"
   ]
  },
  {
   "cell_type": "code",
   "execution_count": 5,
   "metadata": {},
   "outputs": [
    {
     "data": {
      "text/plain": [
       "count      15.000000\n",
       "mean      433.933333\n",
       "std       235.637878\n",
       "min       180.000000\n",
       "25%       285.000000\n",
       "50%       386.000000\n",
       "75%       500.000000\n",
       "max      1000.000000\n",
       "Name: Population, dtype: float64"
      ]
     },
     "execution_count": 5,
     "metadata": {},
     "output_type": "execute_result"
    },
    {
     "data": {
      "image/png": "[encoded data removed]",
      "text/plain": [
       "<Figure size 432x288 with 1 Axes>"
      ]
     },
     "metadata": {
      "needs_background": "light"
     },
     "output_type": "display_data"
    }
   ],
   "source": [
    "df.Population.hist()\n",
    "df.Population.describe()"
   ]
  },
  {
   "cell_type": "code",
   "execution_count": 6,
   "metadata": {},
   "outputs": [
    {
     "data": {
      "text/plain": [
       "count    15.000000\n",
       "mean      5.946640\n",
       "std       0.514684\n",
       "min       5.192957\n",
       "25%       5.651102\n",
       "50%       5.955837\n",
       "75%       6.214608\n",
       "max       6.907755\n",
       "Name: logpop, dtype: float64"
      ]
     },
     "execution_count": 6,
     "metadata": {},
     "output_type": "execute_result"
    },
    {
     "data": {
      "image/png": "[encoded data removed]",
      "text/plain": [
       "<Figure size 432x288 with 1 Axes>"
      ]
     },
     "metadata": {
      "needs_background": "light"
     },
     "output_type": "display_data"
    }
   ],
   "source": [
    "# use log of population to normalize \n",
    "df['logpop'] = np.log(df['Population'])\n",
    "df.logpop.hist()\n",
    "df.logpop.describe()"
   ]
  },
  {
   "cell_type": "code",
   "execution_count": 8,
   "metadata": {},
   "outputs": [
    {
     "data": {
      "text/plain": [
       "count    1.500000e+01\n",
       "mean     2.516506e-16\n",
       "std      1.035098e+00\n",
       "min     -1.164181e+00\n",
       "25%     -8.246000e-01\n",
       "50%     -1.468851e-01\n",
       "75%      6.310143e-01\n",
       "max      1.987997e+00\n",
       "Name: area_scaled, dtype: float64"
      ]
     },
     "execution_count": 8,
     "metadata": {},
     "output_type": "execute_result"
    },
    {
     "data": {
      "image/png": "[encoded data removed]",
      "text/plain": [
       "<Figure size 432x288 with 1 Axes>"
      ]
     },
     "metadata": {
      "needs_background": "light"
     },
     "output_type": "display_data"
    }
   ],
   "source": [
    "# standardize area\n",
    "scaler = StandardScaler()\n",
    "scaler.fit(df[['area_sqm']])\n",
    "df['area_scaled'] = scaler.transform(df[['area_sqm']])\n",
    "df.area_scaled.hist()\n",
    "df.area_scaled.describe()"
   ]
  },
  {
   "cell_type": "code",
   "execution_count": 9,
   "metadata": {},
   "outputs": [
    {
     "data": {
      "text/plain": [
       "<matplotlib.axes._subplots.AxesSubplot at 0x1f7dc716fd0>"
      ]
     },
     "execution_count": 9,
     "metadata": {},
     "output_type": "execute_result"
    },
    {
     "data": {
      "image/png": "[encoded data removed]",
      "text/plain": [
       "<Figure size 432x288 with 1 Axes>"
      ]
     },
     "metadata": {
      "needs_background": "light"
     },
     "output_type": "display_data"
    }
   ],
   "source": [
    "# see if relationship looks OK for linear\n",
    "df.plot.scatter('area_scaled','logpop')"
   ]
  },
  {
   "cell_type": "code",
   "execution_count": 10,
   "metadata": {},
   "outputs": [],
   "source": [
    "# linear regression of raw data\n",
    "slope, intercept, r_value, p_value, std_err = stats.linregress(\n",
    "    df.area_scaled,\n",
    "    df.logpop\n",
    ")"
   ]
  },
  {
   "cell_type": "code",
   "execution_count": 11,
   "metadata": {},
   "outputs": [
    {
     "name": "stdout",
     "output_type": "stream",
     "text": [
      "Slope: 0.3997417254659599\n",
      "Intercept: 5.946640122760374\n",
      "R: 0.8039344504098532\n",
      "p: 0.00030387742371833866\n",
      "Standard Error: 0.08201592527832444\n",
      "R2: 0.6463106005557928\n"
     ]
    }
   ],
   "source": [
    "# Model results\n",
    "print('Slope: {}'.format(slope))\n",
    "print('Intercept: {}'.format(intercept))\n",
    "print('R: {}'.format(r_value))\n",
    "print('p: {}'.format(p_value))\n",
    "print('Standard Error: {}'.format(std_err))\n",
    "print('R2: {}'.format(r_value**2))"
   ]
  },
  {
   "cell_type": "code",
   "execution_count": 12,
   "metadata": {},
   "outputs": [
    {
     "data": {
      "text/plain": [
       "Text(0, 0.5, 'Log of Population')"
      ]
     },
     "execution_count": 12,
     "metadata": {},
     "output_type": "execute_result"
    },
    {
     "data": {
      "image/png": "[encoded data removed]",
      "text/plain": [
       "<Figure size 432x288 with 1 Axes>"
      ]
     },
     "metadata": {
      "needs_background": "light"
     },
     "output_type": "display_data"
    }
   ],
   "source": [
    "plt.scatter(df['area_scaled'],df['logpop'])\n",
    "plt.plot(df['area_scaled'], intercept + slope * df['area_scaled'], 'r' )\n",
    "plt.title('Linear Regression')\n",
    "plt.xlabel('Standardized Area')\n",
    "plt.ylabel('Log of Population')"
   ]
  },
  {
   "cell_type": "code",
   "execution_count": 13,
   "metadata": {},
   "outputs": [
    {
     "data": {
      "text/plain": [
       "Text(0.5, 0, 'Area (scaled)')"
      ]
     },
     "execution_count": 13,
     "metadata": {},
     "output_type": "execute_result"
    },
    {
     "data": {
      "image/png": "[encoded data removed]",
      "text/plain": [
       "<Figure size 432x288 with 1 Axes>"
      ]
     },
     "metadata": {
      "needs_background": "light"
     },
     "output_type": "display_data"
    }
   ],
   "source": [
    "# plot the linear regression with standard error\n",
    "# Requires seaborn\n",
    "import seaborn as sns\n",
    "rp = sns.regplot(\n",
    "    x='area_scaled',\n",
    "    y='logpop',\n",
    "    data=df,\n",
    ")\n",
    "rp.set_title('Linear Regression')\n",
    "rp.set_ylabel('Log of Population')\n",
    "rp.set_xlabel('Area (scaled)')\n",
    "\n"
   ]
  },
  {
   "cell_type": "markdown",
   "metadata": {},
   "source": [
    "## Predict Population for HRSL settlements"
   ]
  },
  {
   "cell_type": "code",
   "execution_count": 28,
   "metadata": {},
   "outputs": [
    {
     "name": "stdout",
     "output_type": "stream",
     "text": [
      "(33695, 5)\n"
     ]
    },
    {
     "data": {
      "text/html": [
       "<div>\n",
       "<style scoped>\n",
       "    .dataframe tbody tr th:only-of-type {\n",
       "        vertical-align: middle;\n",
       "    }\n",
       "\n",
       "    .dataframe tbody tr th {\n",
       "        vertical-align: top;\n",
       "    }\n",
       "\n",
       "    .dataframe thead th {\n",
       "        text-align: right;\n",
       "    }\n",
       "</style>\n",
       "<table border=\"1\" class=\"dataframe\">\n",
       "  <thead>\n",
       "    <tr style=\"text-align: right;\">\n",
       "      <th></th>\n",
       "      <th>Id</th>\n",
       "      <th>Shape_Length</th>\n",
       "      <th>Shape_Area</th>\n",
       "      <th>area_sqm</th>\n",
       "      <th>predicted_pop</th>\n",
       "    </tr>\n",
       "    <tr>\n",
       "      <th>OBJECTID</th>\n",
       "      <th></th>\n",
       "      <th></th>\n",
       "      <th></th>\n",
       "      <th></th>\n",
       "      <th></th>\n",
       "    </tr>\n",
       "  </thead>\n",
       "  <tbody>\n",
       "    <tr>\n",
       "      <th>-1</th>\n",
       "      <td>192319</td>\n",
       "      <td>0.001111</td>\n",
       "      <td>7.716049e-08</td>\n",
       "      <td>913.647706</td>\n",
       "      <td>205.564170</td>\n",
       "    </tr>\n",
       "    <tr>\n",
       "      <th>-1</th>\n",
       "      <td>192320</td>\n",
       "      <td>0.004444</td>\n",
       "      <td>7.716049e-07</td>\n",
       "      <td>9136.460945</td>\n",
       "      <td>243.539912</td>\n",
       "    </tr>\n",
       "    <tr>\n",
       "      <th>-1</th>\n",
       "      <td>192321</td>\n",
       "      <td>0.001111</td>\n",
       "      <td>7.716049e-08</td>\n",
       "      <td>913.647707</td>\n",
       "      <td>205.564170</td>\n",
       "    </tr>\n",
       "    <tr>\n",
       "      <th>-1</th>\n",
       "      <td>192360</td>\n",
       "      <td>0.001111</td>\n",
       "      <td>7.716049e-08</td>\n",
       "      <td>913.648950</td>\n",
       "      <td>205.564175</td>\n",
       "    </tr>\n",
       "    <tr>\n",
       "      <th>-1</th>\n",
       "      <td>192396</td>\n",
       "      <td>0.001667</td>\n",
       "      <td>1.543210e-07</td>\n",
       "      <td>1827.299144</td>\n",
       "      <td>209.472865</td>\n",
       "    </tr>\n",
       "  </tbody>\n",
       "</table>\n",
       "</div>"
      ],
      "text/plain": [
       "              Id  Shape_Length    Shape_Area     area_sqm  predicted_pop\n",
       "OBJECTID                                                                \n",
       "-1        192319      0.001111  7.716049e-08   913.647706     205.564170\n",
       "-1        192320      0.004444  7.716049e-07  9136.460945     243.539912\n",
       "-1        192321      0.001111  7.716049e-08   913.647707     205.564170\n",
       "-1        192360      0.001111  7.716049e-08   913.648950     205.564175\n",
       "-1        192396      0.001667  1.543210e-07  1827.299144     209.472865"
      ]
     },
     "execution_count": 28,
     "metadata": {},
     "output_type": "execute_result"
    }
   ],
   "source": [
    "# load the village extents\n",
    "# village_df = pd.read_csv('./hrsl_settlement_mangrove_100m.csv')\n",
    "village_df = pd.read_csv('./hrsl_settlement_mangrove_100m_v2.csv')\n",
    "village_df.set_index('OBJECTID',inplace=True)\n",
    "print(village_df.shape)\n",
    "village_df.head()"
   ]
  },
  {
   "cell_type": "code",
   "execution_count": 29,
   "metadata": {},
   "outputs": [
    {
     "data": {
      "text/plain": [
       "count    33695.000000\n",
       "mean        -0.387674\n",
       "std         90.153025\n",
       "min         -1.553208\n",
       "25%         -1.551647\n",
       "50%         -1.551467\n",
       "75%         -1.454278\n",
       "max      15980.938844\n",
       "Name: area_scaled, dtype: float64"
      ]
     },
     "execution_count": 29,
     "metadata": {},
     "output_type": "execute_result"
    }
   ],
   "source": [
    "# get scaled area, re-using standard scaler for the same transform\n",
    "village_df.drop(['Shape_Length','Shape_Area'],inplace=True, axis=1)\n",
    "village_df['area_scaled'] = scaler.transform(village_df[['area_sqm']])\n",
    "# drop any NAs\n",
    "village_df.dropna(subset=['area_scaled'])\n",
    "village_df.area_scaled.describe()"
   ]
  },
  {
   "cell_type": "code",
   "execution_count": 31,
   "metadata": {},
   "outputs": [],
   "source": [
    "# run the prediction. Warning comes from a large polygon that is\n",
    "# dropped in the next step\n",
    "village_df['log_predicted_pop'] = intercept + slope * village_df['area_scaled']\n",
    "village_df['predicted_pop'] = np.exp(village_df['log_predicted_pop'])"
   ]
  },
  {
   "cell_type": "code",
   "execution_count": 32,
   "metadata": {},
   "outputs": [
    {
     "name": "stdout",
     "output_type": "stream",
     "text": [
      "(33343, 5)\n"
     ]
    },
    {
     "data": {
      "text/plain": [
       "837.9045091058313"
      ]
     },
     "execution_count": 32,
     "metadata": {},
     "output_type": "execute_result"
    }
   ],
   "source": [
    "# remove anything larger than the max area in the sample data\n",
    "village_df_subset = village_df.loc[village_df.area_sqm < df.area_sqm.max()]\n",
    "print(village_df_subset.shape)\n",
    "village_df_subset.predicted_pop.max()"
   ]
  },
  {
   "cell_type": "code",
   "execution_count": 33,
   "metadata": {},
   "outputs": [
    {
     "name": "stdout",
     "output_type": "stream",
     "text": [
      "count    33343.000000\n",
      "mean       216.546535\n",
      "std         38.252060\n",
      "min        205.564170\n",
      "25%        205.692401\n",
      "50%        205.707226\n",
      "75%        213.813095\n",
      "max        837.904509\n",
      "Name: predicted_pop, dtype: float64\n"
     ]
    },
    {
     "data": {
      "text/plain": [
       "<matplotlib.axes._subplots.AxesSubplot at 0x1f7dd5ad8d0>"
      ]
     },
     "execution_count": 33,
     "metadata": {},
     "output_type": "execute_result"
    },
    {
     "data": {
      "image/png": "[encoded data removed]",
      "text/plain": [
       "<Figure size 432x288 with 1 Axes>"
      ]
     },
     "metadata": {
      "needs_background": "light"
     },
     "output_type": "display_data"
    }
   ],
   "source": [
    "print(village_df_subset.predicted_pop.describe())\n",
    "village_df_subset.predicted_pop.hist()"
   ]
  },
  {
   "cell_type": "code",
   "execution_count": 34,
   "metadata": {},
   "outputs": [],
   "source": [
    "village_df_subset.to_csv('predicted_village_population_lm.csv')"
   ]
  },
  {
   "cell_type": "code",
   "execution_count": null,
   "metadata": {},
   "outputs": [],
   "source": []
  }
 ],
 "metadata": {
  "kernelspec": {
   "display_name": "Python 3",
   "language": "python",
   "name": "python3"
  },
  "language_info": {
   "codemirror_mode": {
    "name": "ipython",
    "version": 3
   },
   "file_extension": ".py",
   "mimetype": "text/x-python",
   "name": "python",
   "nbconvert_exporter": "python",
   "pygments_lexer": "ipython3",
   "version": "3.6.9"
  }
 },
 "nbformat": 4,
 "nbformat_minor": 2
}
